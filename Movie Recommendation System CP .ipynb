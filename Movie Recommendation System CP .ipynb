{
 "cells": [
  {
   "cell_type": "markdown",
   "id": "19cc309d",
   "metadata": {},
   "source": [
    "# Importing Libraries"
   ]
  },
  {
   "cell_type": "code",
   "execution_count": 1,
   "id": "f5eb1513",
   "metadata": {},
   "outputs": [],
   "source": [
    "import pandas as pd\n",
    "import matplotlib.pyplot as plt\n",
    "import seaborn as sns\n",
    "import numpy as np"
   ]
  },
  {
   "cell_type": "markdown",
   "id": "c9ac5d03",
   "metadata": {},
   "source": [
    "I am going to take two datasets 1st one is movie dataset in which we will have movie names and the 2nd one is rating dataset will have ratings and userID"
   ]
  },
  {
   "cell_type": "markdown",
   "id": "4651ada9",
   "metadata": {},
   "source": [
    "# Read CSV File"
   ]
  },
  {
   "cell_type": "code",
   "execution_count": 2,
   "id": "5edd03b7",
   "metadata": {},
   "outputs": [],
   "source": [
    "#importing movie dataset\n",
    "\n",
    "movie = pd.read_csv(r'C:\\Users\\shahi\\movie.csv')"
   ]
  },
  {
   "cell_type": "code",
   "execution_count": 3,
   "id": "62f0598e",
   "metadata": {},
   "outputs": [
    {
     "data": {
      "text/html": [
       "<div>\n",
       "<style scoped>\n",
       "    .dataframe tbody tr th:only-of-type {\n",
       "        vertical-align: middle;\n",
       "    }\n",
       "\n",
       "    .dataframe tbody tr th {\n",
       "        vertical-align: top;\n",
       "    }\n",
       "\n",
       "    .dataframe thead th {\n",
       "        text-align: right;\n",
       "    }\n",
       "</style>\n",
       "<table border=\"1\" class=\"dataframe\">\n",
       "  <thead>\n",
       "    <tr style=\"text-align: right;\">\n",
       "      <th></th>\n",
       "      <th>movieId</th>\n",
       "      <th>title</th>\n",
       "      <th>genres</th>\n",
       "    </tr>\n",
       "  </thead>\n",
       "  <tbody>\n",
       "    <tr>\n",
       "      <th>0</th>\n",
       "      <td>1</td>\n",
       "      <td>Toy Story (1995)</td>\n",
       "      <td>Adventure|Animation|Children|Comedy|Fantasy</td>\n",
       "    </tr>\n",
       "    <tr>\n",
       "      <th>1</th>\n",
       "      <td>2</td>\n",
       "      <td>Jumanji (1995)</td>\n",
       "      <td>Adventure|Children|Fantasy</td>\n",
       "    </tr>\n",
       "    <tr>\n",
       "      <th>2</th>\n",
       "      <td>3</td>\n",
       "      <td>Grumpier Old Men (1995)</td>\n",
       "      <td>Comedy|Romance</td>\n",
       "    </tr>\n",
       "    <tr>\n",
       "      <th>3</th>\n",
       "      <td>4</td>\n",
       "      <td>Waiting to Exhale (1995)</td>\n",
       "      <td>Comedy|Drama|Romance</td>\n",
       "    </tr>\n",
       "    <tr>\n",
       "      <th>4</th>\n",
       "      <td>5</td>\n",
       "      <td>Father of the Bride Part II (1995)</td>\n",
       "      <td>Comedy</td>\n",
       "    </tr>\n",
       "  </tbody>\n",
       "</table>\n",
       "</div>"
      ],
      "text/plain": [
       "   movieId                               title  \\\n",
       "0        1                    Toy Story (1995)   \n",
       "1        2                      Jumanji (1995)   \n",
       "2        3             Grumpier Old Men (1995)   \n",
       "3        4            Waiting to Exhale (1995)   \n",
       "4        5  Father of the Bride Part II (1995)   \n",
       "\n",
       "                                        genres  \n",
       "0  Adventure|Animation|Children|Comedy|Fantasy  \n",
       "1                   Adventure|Children|Fantasy  \n",
       "2                               Comedy|Romance  \n",
       "3                         Comedy|Drama|Romance  \n",
       "4                                       Comedy  "
      ]
     },
     "execution_count": 3,
     "metadata": {},
     "output_type": "execute_result"
    }
   ],
   "source": [
    "movie.head()"
   ]
  },
  {
   "cell_type": "code",
   "execution_count": 4,
   "id": "3dc19d9e",
   "metadata": {},
   "outputs": [
    {
     "data": {
      "text/plain": [
       "(27278, 3)"
      ]
     },
     "execution_count": 4,
     "metadata": {},
     "output_type": "execute_result"
    }
   ],
   "source": [
    "movie.shape"
   ]
  },
  {
   "cell_type": "markdown",
   "id": "27dc8f9f",
   "metadata": {},
   "source": [
    "In this dataset i am having  27,278 movies. I don't need genres column so i am going to drop that column."
   ]
  },
  {
   "cell_type": "markdown",
   "id": "35c9c6d5",
   "metadata": {},
   "source": [
    "# Drop Genres Column"
   ]
  },
  {
   "cell_type": "code",
   "execution_count": 5,
   "id": "b960de90",
   "metadata": {},
   "outputs": [],
   "source": [
    "movie.drop(['genres'],axis=1,inplace=True)"
   ]
  },
  {
   "cell_type": "code",
   "execution_count": 6,
   "id": "17f9410b",
   "metadata": {},
   "outputs": [
    {
     "data": {
      "text/html": [
       "<div>\n",
       "<style scoped>\n",
       "    .dataframe tbody tr th:only-of-type {\n",
       "        vertical-align: middle;\n",
       "    }\n",
       "\n",
       "    .dataframe tbody tr th {\n",
       "        vertical-align: top;\n",
       "    }\n",
       "\n",
       "    .dataframe thead th {\n",
       "        text-align: right;\n",
       "    }\n",
       "</style>\n",
       "<table border=\"1\" class=\"dataframe\">\n",
       "  <thead>\n",
       "    <tr style=\"text-align: right;\">\n",
       "      <th></th>\n",
       "      <th>movieId</th>\n",
       "      <th>title</th>\n",
       "    </tr>\n",
       "  </thead>\n",
       "  <tbody>\n",
       "    <tr>\n",
       "      <th>0</th>\n",
       "      <td>1</td>\n",
       "      <td>Toy Story (1995)</td>\n",
       "    </tr>\n",
       "    <tr>\n",
       "      <th>1</th>\n",
       "      <td>2</td>\n",
       "      <td>Jumanji (1995)</td>\n",
       "    </tr>\n",
       "    <tr>\n",
       "      <th>2</th>\n",
       "      <td>3</td>\n",
       "      <td>Grumpier Old Men (1995)</td>\n",
       "    </tr>\n",
       "    <tr>\n",
       "      <th>3</th>\n",
       "      <td>4</td>\n",
       "      <td>Waiting to Exhale (1995)</td>\n",
       "    </tr>\n",
       "    <tr>\n",
       "      <th>4</th>\n",
       "      <td>5</td>\n",
       "      <td>Father of the Bride Part II (1995)</td>\n",
       "    </tr>\n",
       "  </tbody>\n",
       "</table>\n",
       "</div>"
      ],
      "text/plain": [
       "   movieId                               title\n",
       "0        1                    Toy Story (1995)\n",
       "1        2                      Jumanji (1995)\n",
       "2        3             Grumpier Old Men (1995)\n",
       "3        4            Waiting to Exhale (1995)\n",
       "4        5  Father of the Bride Part II (1995)"
      ]
     },
     "execution_count": 6,
     "metadata": {},
     "output_type": "execute_result"
    }
   ],
   "source": [
    "movie.head()"
   ]
  },
  {
   "cell_type": "markdown",
   "id": "896c78d4",
   "metadata": {},
   "source": [
    "Now I need to import another dataset in which i am having ratings for the movie"
   ]
  },
  {
   "cell_type": "code",
   "execution_count": 7,
   "id": "7167c54c",
   "metadata": {},
   "outputs": [],
   "source": [
    "# import rating dataset\n",
    "\n",
    "rating = pd.read_csv(r\"C:\\Users\\shahi\\rating.csv\")"
   ]
  },
  {
   "cell_type": "code",
   "execution_count": 8,
   "id": "e55ce3c9",
   "metadata": {},
   "outputs": [
    {
     "data": {
      "text/plain": [
       "Index(['userId', 'movieId', 'rating', 'timestamp'], dtype='object')"
      ]
     },
     "execution_count": 8,
     "metadata": {},
     "output_type": "execute_result"
    }
   ],
   "source": [
    "rating.columns"
   ]
  },
  {
   "cell_type": "code",
   "execution_count": 9,
   "id": "1cffa903",
   "metadata": {},
   "outputs": [
    {
     "data": {
      "text/html": [
       "<div>\n",
       "<style scoped>\n",
       "    .dataframe tbody tr th:only-of-type {\n",
       "        vertical-align: middle;\n",
       "    }\n",
       "\n",
       "    .dataframe tbody tr th {\n",
       "        vertical-align: top;\n",
       "    }\n",
       "\n",
       "    .dataframe thead th {\n",
       "        text-align: right;\n",
       "    }\n",
       "</style>\n",
       "<table border=\"1\" class=\"dataframe\">\n",
       "  <thead>\n",
       "    <tr style=\"text-align: right;\">\n",
       "      <th></th>\n",
       "      <th>userId</th>\n",
       "      <th>movieId</th>\n",
       "      <th>rating</th>\n",
       "      <th>timestamp</th>\n",
       "    </tr>\n",
       "  </thead>\n",
       "  <tbody>\n",
       "    <tr>\n",
       "      <th>0</th>\n",
       "      <td>1</td>\n",
       "      <td>2</td>\n",
       "      <td>3.5</td>\n",
       "      <td>2005-04-02 23:53:47</td>\n",
       "    </tr>\n",
       "    <tr>\n",
       "      <th>1</th>\n",
       "      <td>1</td>\n",
       "      <td>29</td>\n",
       "      <td>3.5</td>\n",
       "      <td>2005-04-02 23:31:16</td>\n",
       "    </tr>\n",
       "    <tr>\n",
       "      <th>2</th>\n",
       "      <td>1</td>\n",
       "      <td>32</td>\n",
       "      <td>3.5</td>\n",
       "      <td>2005-04-02 23:33:39</td>\n",
       "    </tr>\n",
       "    <tr>\n",
       "      <th>3</th>\n",
       "      <td>1</td>\n",
       "      <td>47</td>\n",
       "      <td>3.5</td>\n",
       "      <td>2005-04-02 23:32:07</td>\n",
       "    </tr>\n",
       "    <tr>\n",
       "      <th>4</th>\n",
       "      <td>1</td>\n",
       "      <td>50</td>\n",
       "      <td>3.5</td>\n",
       "      <td>2005-04-02 23:29:40</td>\n",
       "    </tr>\n",
       "  </tbody>\n",
       "</table>\n",
       "</div>"
      ],
      "text/plain": [
       "   userId  movieId  rating            timestamp\n",
       "0       1        2     3.5  2005-04-02 23:53:47\n",
       "1       1       29     3.5  2005-04-02 23:31:16\n",
       "2       1       32     3.5  2005-04-02 23:33:39\n",
       "3       1       47     3.5  2005-04-02 23:32:07\n",
       "4       1       50     3.5  2005-04-02 23:29:40"
      ]
     },
     "execution_count": 9,
     "metadata": {},
     "output_type": "execute_result"
    }
   ],
   "source": [
    "rating.head()"
   ]
  },
  {
   "cell_type": "code",
   "execution_count": 10,
   "id": "0ecebd2d",
   "metadata": {},
   "outputs": [
    {
     "data": {
      "text/plain": [
       "(20000263, 4)"
      ]
     },
     "execution_count": 10,
     "metadata": {},
     "output_type": "execute_result"
    }
   ],
   "source": [
    "rating.shape"
   ]
  },
  {
   "cell_type": "markdown",
   "id": "e9162193",
   "metadata": {},
   "source": [
    "I need user id, movie id and rating"
   ]
  },
  {
   "cell_type": "code",
   "execution_count": 11,
   "id": "f2bcc307",
   "metadata": {},
   "outputs": [],
   "source": [
    "rating = rating.loc[:,[\"userId\",\"movieId\",\"rating\"]]"
   ]
  },
  {
   "cell_type": "code",
   "execution_count": 12,
   "id": "0b536f5e",
   "metadata": {},
   "outputs": [
    {
     "data": {
      "text/html": [
       "<div>\n",
       "<style scoped>\n",
       "    .dataframe tbody tr th:only-of-type {\n",
       "        vertical-align: middle;\n",
       "    }\n",
       "\n",
       "    .dataframe tbody tr th {\n",
       "        vertical-align: top;\n",
       "    }\n",
       "\n",
       "    .dataframe thead th {\n",
       "        text-align: right;\n",
       "    }\n",
       "</style>\n",
       "<table border=\"1\" class=\"dataframe\">\n",
       "  <thead>\n",
       "    <tr style=\"text-align: right;\">\n",
       "      <th></th>\n",
       "      <th>userId</th>\n",
       "      <th>movieId</th>\n",
       "      <th>rating</th>\n",
       "    </tr>\n",
       "  </thead>\n",
       "  <tbody>\n",
       "    <tr>\n",
       "      <th>0</th>\n",
       "      <td>1</td>\n",
       "      <td>2</td>\n",
       "      <td>3.5</td>\n",
       "    </tr>\n",
       "    <tr>\n",
       "      <th>1</th>\n",
       "      <td>1</td>\n",
       "      <td>29</td>\n",
       "      <td>3.5</td>\n",
       "    </tr>\n",
       "    <tr>\n",
       "      <th>2</th>\n",
       "      <td>1</td>\n",
       "      <td>32</td>\n",
       "      <td>3.5</td>\n",
       "    </tr>\n",
       "    <tr>\n",
       "      <th>3</th>\n",
       "      <td>1</td>\n",
       "      <td>47</td>\n",
       "      <td>3.5</td>\n",
       "    </tr>\n",
       "    <tr>\n",
       "      <th>4</th>\n",
       "      <td>1</td>\n",
       "      <td>50</td>\n",
       "      <td>3.5</td>\n",
       "    </tr>\n",
       "  </tbody>\n",
       "</table>\n",
       "</div>"
      ],
      "text/plain": [
       "   userId  movieId  rating\n",
       "0       1        2     3.5\n",
       "1       1       29     3.5\n",
       "2       1       32     3.5\n",
       "3       1       47     3.5\n",
       "4       1       50     3.5"
      ]
     },
     "execution_count": 12,
     "metadata": {},
     "output_type": "execute_result"
    }
   ],
   "source": [
    "rating.head()"
   ]
  },
  {
   "cell_type": "markdown",
   "id": "5b7f30ce",
   "metadata": {},
   "source": [
    "# Merging Both Movie & Rating Data"
   ]
  },
  {
   "cell_type": "code",
   "execution_count": 13,
   "id": "7ea46792",
   "metadata": {},
   "outputs": [],
   "source": [
    "movie = pd.merge(movie,rating)"
   ]
  },
  {
   "cell_type": "code",
   "execution_count": 14,
   "id": "904b89db",
   "metadata": {},
   "outputs": [
    {
     "data": {
      "text/html": [
       "<div>\n",
       "<style scoped>\n",
       "    .dataframe tbody tr th:only-of-type {\n",
       "        vertical-align: middle;\n",
       "    }\n",
       "\n",
       "    .dataframe tbody tr th {\n",
       "        vertical-align: top;\n",
       "    }\n",
       "\n",
       "    .dataframe thead th {\n",
       "        text-align: right;\n",
       "    }\n",
       "</style>\n",
       "<table border=\"1\" class=\"dataframe\">\n",
       "  <thead>\n",
       "    <tr style=\"text-align: right;\">\n",
       "      <th></th>\n",
       "      <th>movieId</th>\n",
       "      <th>title</th>\n",
       "      <th>userId</th>\n",
       "      <th>rating</th>\n",
       "    </tr>\n",
       "  </thead>\n",
       "  <tbody>\n",
       "    <tr>\n",
       "      <th>0</th>\n",
       "      <td>1</td>\n",
       "      <td>Toy Story (1995)</td>\n",
       "      <td>3</td>\n",
       "      <td>4.0</td>\n",
       "    </tr>\n",
       "    <tr>\n",
       "      <th>1</th>\n",
       "      <td>1</td>\n",
       "      <td>Toy Story (1995)</td>\n",
       "      <td>6</td>\n",
       "      <td>5.0</td>\n",
       "    </tr>\n",
       "    <tr>\n",
       "      <th>2</th>\n",
       "      <td>1</td>\n",
       "      <td>Toy Story (1995)</td>\n",
       "      <td>8</td>\n",
       "      <td>4.0</td>\n",
       "    </tr>\n",
       "    <tr>\n",
       "      <th>3</th>\n",
       "      <td>1</td>\n",
       "      <td>Toy Story (1995)</td>\n",
       "      <td>10</td>\n",
       "      <td>4.0</td>\n",
       "    </tr>\n",
       "    <tr>\n",
       "      <th>4</th>\n",
       "      <td>1</td>\n",
       "      <td>Toy Story (1995)</td>\n",
       "      <td>11</td>\n",
       "      <td>4.5</td>\n",
       "    </tr>\n",
       "  </tbody>\n",
       "</table>\n",
       "</div>"
      ],
      "text/plain": [
       "   movieId             title  userId  rating\n",
       "0        1  Toy Story (1995)       3     4.0\n",
       "1        1  Toy Story (1995)       6     5.0\n",
       "2        1  Toy Story (1995)       8     4.0\n",
       "3        1  Toy Story (1995)      10     4.0\n",
       "4        1  Toy Story (1995)      11     4.5"
      ]
     },
     "execution_count": 14,
     "metadata": {},
     "output_type": "execute_result"
    }
   ],
   "source": [
    "movie.head()"
   ]
  },
  {
   "cell_type": "markdown",
   "id": "d00f90b2",
   "metadata": {},
   "source": [
    "As noted here in userid  one user has rated 1 or more than 1 movie. It means that one movie has been rated by more than 1 user."
   ]
  },
  {
   "cell_type": "code",
   "execution_count": 15,
   "id": "dc7f54fb",
   "metadata": {},
   "outputs": [
    {
     "data": {
      "text/plain": [
       "(20000263, 4)"
      ]
     },
     "execution_count": 15,
     "metadata": {},
     "output_type": "execute_result"
    }
   ],
   "source": [
    "movie.shape"
   ]
  },
  {
   "cell_type": "markdown",
   "id": "76097980",
   "metadata": {},
   "source": [
    "In kaggle kernel,we don't have much memory so we have to subset our dataset,we are going to take 1M rows"
   ]
  },
  {
   "cell_type": "code",
   "execution_count": 16,
   "id": "42f9a29e",
   "metadata": {},
   "outputs": [],
   "source": [
    "movie = movie.iloc[:1000000]"
   ]
  },
  {
   "cell_type": "code",
   "execution_count": 17,
   "id": "185a69d9",
   "metadata": {},
   "outputs": [
    {
     "data": {
      "text/plain": [
       "(1000000, 4)"
      ]
     },
     "execution_count": 17,
     "metadata": {},
     "output_type": "execute_result"
    }
   ],
   "source": [
    "movie.shape "
   ]
  },
  {
   "cell_type": "code",
   "execution_count": 18,
   "id": "17c833a0",
   "metadata": {},
   "outputs": [
    {
     "data": {
      "text/html": [
       "<div>\n",
       "<style scoped>\n",
       "    .dataframe tbody tr th:only-of-type {\n",
       "        vertical-align: middle;\n",
       "    }\n",
       "\n",
       "    .dataframe tbody tr th {\n",
       "        vertical-align: top;\n",
       "    }\n",
       "\n",
       "    .dataframe thead th {\n",
       "        text-align: right;\n",
       "    }\n",
       "</style>\n",
       "<table border=\"1\" class=\"dataframe\">\n",
       "  <thead>\n",
       "    <tr style=\"text-align: right;\">\n",
       "      <th></th>\n",
       "      <th>movieId</th>\n",
       "      <th>userId</th>\n",
       "      <th>rating</th>\n",
       "    </tr>\n",
       "  </thead>\n",
       "  <tbody>\n",
       "    <tr>\n",
       "      <th>count</th>\n",
       "      <td>1000000.000000</td>\n",
       "      <td>1000000.000000</td>\n",
       "      <td>1000000.00000</td>\n",
       "    </tr>\n",
       "    <tr>\n",
       "      <th>mean</th>\n",
       "      <td>52.248951</td>\n",
       "      <td>69132.673651</td>\n",
       "      <td>3.56875</td>\n",
       "    </tr>\n",
       "    <tr>\n",
       "      <th>std</th>\n",
       "      <td>41.348656</td>\n",
       "      <td>40016.765553</td>\n",
       "      <td>1.05202</td>\n",
       "    </tr>\n",
       "    <tr>\n",
       "      <th>min</th>\n",
       "      <td>1.000000</td>\n",
       "      <td>1.000000</td>\n",
       "      <td>0.50000</td>\n",
       "    </tr>\n",
       "    <tr>\n",
       "      <th>25%</th>\n",
       "      <td>19.000000</td>\n",
       "      <td>34437.000000</td>\n",
       "      <td>3.00000</td>\n",
       "    </tr>\n",
       "    <tr>\n",
       "      <th>50%</th>\n",
       "      <td>42.000000</td>\n",
       "      <td>69262.500000</td>\n",
       "      <td>4.00000</td>\n",
       "    </tr>\n",
       "    <tr>\n",
       "      <th>75%</th>\n",
       "      <td>88.000000</td>\n",
       "      <td>103680.000000</td>\n",
       "      <td>4.00000</td>\n",
       "    </tr>\n",
       "    <tr>\n",
       "      <th>max</th>\n",
       "      <td>147.000000</td>\n",
       "      <td>138493.000000</td>\n",
       "      <td>5.00000</td>\n",
       "    </tr>\n",
       "  </tbody>\n",
       "</table>\n",
       "</div>"
      ],
      "text/plain": [
       "              movieId          userId         rating\n",
       "count  1000000.000000  1000000.000000  1000000.00000\n",
       "mean        52.248951    69132.673651        3.56875\n",
       "std         41.348656    40016.765553        1.05202\n",
       "min          1.000000        1.000000        0.50000\n",
       "25%         19.000000    34437.000000        3.00000\n",
       "50%         42.000000    69262.500000        4.00000\n",
       "75%         88.000000   103680.000000        4.00000\n",
       "max        147.000000   138493.000000        5.00000"
      ]
     },
     "execution_count": 18,
     "metadata": {},
     "output_type": "execute_result"
    }
   ],
   "source": [
    "movie.describe()"
   ]
  },
  {
   "cell_type": "markdown",
   "id": "45fadc93",
   "metadata": {},
   "source": [
    "# Data Visualization\n"
   ]
  },
  {
   "cell_type": "markdown",
   "id": "4f8fd7a5",
   "metadata": {},
   "source": [
    "Let's find the average rating of each movie"
   ]
  },
  {
   "cell_type": "code",
   "execution_count": 19,
   "id": "893ed8ea",
   "metadata": {},
   "outputs": [
    {
     "data": {
      "text/plain": [
       "title\n",
       "Usual Suspects, The (1995)                   4.334372\n",
       "Taxi Driver (1976)                           4.110576\n",
       "Persuasion (1995)                            4.057546\n",
       "Seven (a.k.a. Se7en) (1995)                  4.053493\n",
       "Braveheart (1995)                            4.042534\n",
       "                                               ...   \n",
       "NeverEnding Story III, The (1994)            2.312137\n",
       "Lawnmower Man 2: Beyond Cyberspace (1996)    2.144243\n",
       "Gospa (1995)                                 2.142857\n",
       "Headless Body in Topless Bar (1995)          2.062500\n",
       "Kids of the Round Table (1995)               1.871429\n",
       "Name: rating, Length: 146, dtype: float64"
      ]
     },
     "execution_count": 19,
     "metadata": {},
     "output_type": "execute_result"
    }
   ],
   "source": [
    "movie.groupby(\"title\").mean()['rating'].sort_values(ascending=False)"
   ]
  },
  {
   "cell_type": "markdown",
   "id": "c40b2dc0",
   "metadata": {},
   "source": [
    "Let's find the number of rating a particular movie has received"
   ]
  },
  {
   "cell_type": "code",
   "execution_count": 20,
   "id": "6d708eaf",
   "metadata": {},
   "outputs": [
    {
     "data": {
      "text/plain": [
       "title\n",
       "Braveheart (1995)                            53769\n",
       "Toy Story (1995)                             49695\n",
       "Usual Suspects, The (1995)                   47006\n",
       "Twelve Monkeys (a.k.a. 12 Monkeys) (1995)    44980\n",
       "Seven (a.k.a. Se7en) (1995)                  43249\n",
       "                                             ...  \n",
       "Sonic Outlaws (1995)                            36\n",
       "Guardian Angel (1994)                           27\n",
       "Nueba Yol (1995)                                19\n",
       "Headless Body in Topless Bar (1995)             16\n",
       "Gospa (1995)                                    14\n",
       "Name: rating, Length: 146, dtype: int64"
      ]
     },
     "execution_count": 20,
     "metadata": {},
     "output_type": "execute_result"
    }
   ],
   "source": [
    "movie.groupby(\"title\").count()[\"rating\"].sort_values(ascending=False)"
   ]
  },
  {
   "cell_type": "markdown",
   "id": "819f1665",
   "metadata": {},
   "source": [
    "Now I am going to make a datafame in which we will have rating and number of ratings column"
   ]
  },
  {
   "cell_type": "code",
   "execution_count": 21,
   "id": "694f25b4",
   "metadata": {},
   "outputs": [
    {
     "name": "stdout",
     "output_type": "stream",
     "text": [
      "                                         rating  number of ratings\n",
      "title                                                             \n",
      "Ace Ventura: When Nature Calls (1995)  2.607412              20938\n",
      "Across the Sea of Time (1995)          3.017647                 85\n",
      "Amazing Panda Adventure, The (1995)    2.912069                580\n",
      "American President, The (1995)         3.667713              18162\n",
      "Angela (1995)                          3.115385                 39\n"
     ]
    }
   ],
   "source": [
    "ratings=pd.DataFrame(movie.groupby(\"title\").mean()['rating'])\n",
    "ratings['number of ratings']=pd.DataFrame(movie.groupby(\"title\").count()[\"rating\"])\n",
    "print(ratings.head())"
   ]
  },
  {
   "cell_type": "code",
   "execution_count": 22,
   "id": "549d57ea",
   "metadata": {},
   "outputs": [
    {
     "data": {
      "text/html": [
       "<div>\n",
       "<style scoped>\n",
       "    .dataframe tbody tr th:only-of-type {\n",
       "        vertical-align: middle;\n",
       "    }\n",
       "\n",
       "    .dataframe tbody tr th {\n",
       "        vertical-align: top;\n",
       "    }\n",
       "\n",
       "    .dataframe thead th {\n",
       "        text-align: right;\n",
       "    }\n",
       "</style>\n",
       "<table border=\"1\" class=\"dataframe\">\n",
       "  <thead>\n",
       "    <tr style=\"text-align: right;\">\n",
       "      <th></th>\n",
       "      <th>rating</th>\n",
       "      <th>number of ratings</th>\n",
       "    </tr>\n",
       "    <tr>\n",
       "      <th>title</th>\n",
       "      <th></th>\n",
       "      <th></th>\n",
       "    </tr>\n",
       "  </thead>\n",
       "  <tbody>\n",
       "    <tr>\n",
       "      <th>Usual Suspects, The (1995)</th>\n",
       "      <td>4.334372</td>\n",
       "      <td>47006</td>\n",
       "    </tr>\n",
       "    <tr>\n",
       "      <th>Taxi Driver (1976)</th>\n",
       "      <td>4.110576</td>\n",
       "      <td>24481</td>\n",
       "    </tr>\n",
       "    <tr>\n",
       "      <th>Persuasion (1995)</th>\n",
       "      <td>4.057546</td>\n",
       "      <td>3154</td>\n",
       "    </tr>\n",
       "    <tr>\n",
       "      <th>Seven (a.k.a. Se7en) (1995)</th>\n",
       "      <td>4.053493</td>\n",
       "      <td>43249</td>\n",
       "    </tr>\n",
       "    <tr>\n",
       "      <th>Braveheart (1995)</th>\n",
       "      <td>4.042534</td>\n",
       "      <td>53769</td>\n",
       "    </tr>\n",
       "    <tr>\n",
       "      <th>...</th>\n",
       "      <td>...</td>\n",
       "      <td>...</td>\n",
       "    </tr>\n",
       "    <tr>\n",
       "      <th>NeverEnding Story III, The (1994)</th>\n",
       "      <td>2.312137</td>\n",
       "      <td>1376</td>\n",
       "    </tr>\n",
       "    <tr>\n",
       "      <th>Lawnmower Man 2: Beyond Cyberspace (1996)</th>\n",
       "      <td>2.144243</td>\n",
       "      <td>2371</td>\n",
       "    </tr>\n",
       "    <tr>\n",
       "      <th>Gospa (1995)</th>\n",
       "      <td>2.142857</td>\n",
       "      <td>14</td>\n",
       "    </tr>\n",
       "    <tr>\n",
       "      <th>Headless Body in Topless Bar (1995)</th>\n",
       "      <td>2.062500</td>\n",
       "      <td>16</td>\n",
       "    </tr>\n",
       "    <tr>\n",
       "      <th>Kids of the Round Table (1995)</th>\n",
       "      <td>1.871429</td>\n",
       "      <td>70</td>\n",
       "    </tr>\n",
       "  </tbody>\n",
       "</table>\n",
       "<p>146 rows × 2 columns</p>\n",
       "</div>"
      ],
      "text/plain": [
       "                                             rating  number of ratings\n",
       "title                                                                 \n",
       "Usual Suspects, The (1995)                 4.334372              47006\n",
       "Taxi Driver (1976)                         4.110576              24481\n",
       "Persuasion (1995)                          4.057546               3154\n",
       "Seven (a.k.a. Se7en) (1995)                4.053493              43249\n",
       "Braveheart (1995)                          4.042534              53769\n",
       "...                                             ...                ...\n",
       "NeverEnding Story III, The (1994)          2.312137               1376\n",
       "Lawnmower Man 2: Beyond Cyberspace (1996)  2.144243               2371\n",
       "Gospa (1995)                               2.142857                 14\n",
       "Headless Body in Topless Bar (1995)        2.062500                 16\n",
       "Kids of the Round Table (1995)             1.871429                 70\n",
       "\n",
       "[146 rows x 2 columns]"
      ]
     },
     "execution_count": 22,
     "metadata": {},
     "output_type": "execute_result"
    }
   ],
   "source": [
    "ratings.sort_values(by='rating', ascending=False)"
   ]
  },
  {
   "cell_type": "code",
   "execution_count": 23,
   "id": "3771cfd2",
   "metadata": {},
   "outputs": [
    {
     "data": {
      "text/html": [
       "<div>\n",
       "<style scoped>\n",
       "    .dataframe tbody tr th:only-of-type {\n",
       "        vertical-align: middle;\n",
       "    }\n",
       "\n",
       "    .dataframe tbody tr th {\n",
       "        vertical-align: top;\n",
       "    }\n",
       "\n",
       "    .dataframe thead th {\n",
       "        text-align: right;\n",
       "    }\n",
       "</style>\n",
       "<table border=\"1\" class=\"dataframe\">\n",
       "  <thead>\n",
       "    <tr style=\"text-align: right;\">\n",
       "      <th></th>\n",
       "      <th>rating</th>\n",
       "      <th>number of ratings</th>\n",
       "    </tr>\n",
       "  </thead>\n",
       "  <tbody>\n",
       "    <tr>\n",
       "      <th>count</th>\n",
       "      <td>146.000000</td>\n",
       "      <td>146.000000</td>\n",
       "    </tr>\n",
       "    <tr>\n",
       "      <th>mean</th>\n",
       "      <td>3.282091</td>\n",
       "      <td>6849.315068</td>\n",
       "    </tr>\n",
       "    <tr>\n",
       "      <th>std</th>\n",
       "      <td>0.464475</td>\n",
       "      <td>10554.093747</td>\n",
       "    </tr>\n",
       "    <tr>\n",
       "      <th>min</th>\n",
       "      <td>1.871429</td>\n",
       "      <td>14.000000</td>\n",
       "    </tr>\n",
       "    <tr>\n",
       "      <th>25%</th>\n",
       "      <td>3.056590</td>\n",
       "      <td>576.250000</td>\n",
       "    </tr>\n",
       "    <tr>\n",
       "      <th>50%</th>\n",
       "      <td>3.310810</td>\n",
       "      <td>2545.000000</td>\n",
       "    </tr>\n",
       "    <tr>\n",
       "      <th>75%</th>\n",
       "      <td>3.584594</td>\n",
       "      <td>8382.750000</td>\n",
       "    </tr>\n",
       "    <tr>\n",
       "      <th>max</th>\n",
       "      <td>4.334372</td>\n",
       "      <td>53769.000000</td>\n",
       "    </tr>\n",
       "  </tbody>\n",
       "</table>\n",
       "</div>"
      ],
      "text/plain": [
       "           rating  number of ratings\n",
       "count  146.000000         146.000000\n",
       "mean     3.282091        6849.315068\n",
       "std      0.464475       10554.093747\n",
       "min      1.871429          14.000000\n",
       "25%      3.056590         576.250000\n",
       "50%      3.310810        2545.000000\n",
       "75%      3.584594        8382.750000\n",
       "max      4.334372       53769.000000"
      ]
     },
     "execution_count": 23,
     "metadata": {},
     "output_type": "execute_result"
    }
   ],
   "source": [
    "ratings.describe()"
   ]
  },
  {
   "cell_type": "markdown",
   "id": "dc7e49e9",
   "metadata": {},
   "source": [
    "So from above we can see that we don't have any movie with rating 5"
   ]
  },
  {
   "cell_type": "code",
   "execution_count": 24,
   "id": "841a149f",
   "metadata": {},
   "outputs": [
    {
     "data": {
      "text/plain": [
       "<function matplotlib.pyplot.show(close=None, block=None)>"
      ]
     },
     "execution_count": 24,
     "metadata": {},
     "output_type": "execute_result"
    },
    {
     "data": {
      "image/png": "[encoded data removed]",
      "text/plain": [
       "<Figure size 432x288 with 1 Axes>"
      ]
     },
     "metadata": {
      "needs_background": "light"
     },
     "output_type": "display_data"
    }
   ],
   "source": [
    "plt.hist(ratings['rating'])\n",
    "plt.show"
   ]
  },
  {
   "cell_type": "code",
   "execution_count": 25,
   "id": "b1e0d9e3",
   "metadata": {},
   "outputs": [
    {
     "data": {
      "text/plain": [
       "<function matplotlib.pyplot.show(close=None, block=None)>"
      ]
     },
     "execution_count": 25,
     "metadata": {},
     "output_type": "execute_result"
    },
    {
     "data": {
      "image/png": "[encoded data removed]",
      "text/plain": [
       "<Figure size 432x288 with 1 Axes>"
      ]
     },
     "metadata": {
      "needs_background": "light"
     },
     "output_type": "display_data"
    }
   ],
   "source": [
    "plt.hist(ratings['number of ratings'],bins=50)\n",
    "plt.show"
   ]
  },
  {
   "cell_type": "markdown",
   "id": "da2f5226",
   "metadata": {},
   "source": [
    "# Recommender System"
   ]
  },
  {
   "cell_type": "markdown",
   "id": "6bd27839",
   "metadata": {},
   "source": [
    "# Lets make a pivot table in order to make rows are users and columns are movies & values are rating"
   ]
  },
  {
   "cell_type": "code",
   "execution_count": 26,
   "id": "c5c2c0c4",
   "metadata": {},
   "outputs": [
    {
     "data": {
      "text/html": [
       "<div>\n",
       "<style scoped>\n",
       "    .dataframe tbody tr th:only-of-type {\n",
       "        vertical-align: middle;\n",
       "    }\n",
       "\n",
       "    .dataframe tbody tr th {\n",
       "        vertical-align: top;\n",
       "    }\n",
       "\n",
       "    .dataframe thead th {\n",
       "        text-align: right;\n",
       "    }\n",
       "</style>\n",
       "<table border=\"1\" class=\"dataframe\">\n",
       "  <thead>\n",
       "    <tr style=\"text-align: right;\">\n",
       "      <th>title</th>\n",
       "      <th>Ace Ventura: When Nature Calls (1995)</th>\n",
       "      <th>Across the Sea of Time (1995)</th>\n",
       "      <th>Amazing Panda Adventure, The (1995)</th>\n",
       "      <th>American President, The (1995)</th>\n",
       "      <th>Angela (1995)</th>\n",
       "      <th>Angels and Insects (1995)</th>\n",
       "      <th>Anne Frank Remembered (1995)</th>\n",
       "      <th>Antonia's Line (Antonia) (1995)</th>\n",
       "      <th>Assassins (1995)</th>\n",
       "      <th>Babe (1995)</th>\n",
       "      <th>...</th>\n",
       "      <th>Unforgettable (1996)</th>\n",
       "      <th>Up Close and Personal (1996)</th>\n",
       "      <th>Usual Suspects, The (1995)</th>\n",
       "      <th>Vampire in Brooklyn (1995)</th>\n",
       "      <th>Waiting to Exhale (1995)</th>\n",
       "      <th>When Night Is Falling (1995)</th>\n",
       "      <th>White Balloon, The (Badkonake sefid) (1995)</th>\n",
       "      <th>White Squall (1996)</th>\n",
       "      <th>Wings of Courage (1995)</th>\n",
       "      <th>Young Poisoner's Handbook, The (1995)</th>\n",
       "    </tr>\n",
       "    <tr>\n",
       "      <th>userId</th>\n",
       "      <th></th>\n",
       "      <th></th>\n",
       "      <th></th>\n",
       "      <th></th>\n",
       "      <th></th>\n",
       "      <th></th>\n",
       "      <th></th>\n",
       "      <th></th>\n",
       "      <th></th>\n",
       "      <th></th>\n",
       "      <th></th>\n",
       "      <th></th>\n",
       "      <th></th>\n",
       "      <th></th>\n",
       "      <th></th>\n",
       "      <th></th>\n",
       "      <th></th>\n",
       "      <th></th>\n",
       "      <th></th>\n",
       "      <th></th>\n",
       "      <th></th>\n",
       "    </tr>\n",
       "  </thead>\n",
       "  <tbody>\n",
       "    <tr>\n",
       "      <th>1</th>\n",
       "      <td>NaN</td>\n",
       "      <td>NaN</td>\n",
       "      <td>NaN</td>\n",
       "      <td>NaN</td>\n",
       "      <td>NaN</td>\n",
       "      <td>NaN</td>\n",
       "      <td>NaN</td>\n",
       "      <td>NaN</td>\n",
       "      <td>NaN</td>\n",
       "      <td>NaN</td>\n",
       "      <td>...</td>\n",
       "      <td>NaN</td>\n",
       "      <td>NaN</td>\n",
       "      <td>3.5</td>\n",
       "      <td>NaN</td>\n",
       "      <td>NaN</td>\n",
       "      <td>NaN</td>\n",
       "      <td>NaN</td>\n",
       "      <td>NaN</td>\n",
       "      <td>NaN</td>\n",
       "      <td>NaN</td>\n",
       "    </tr>\n",
       "    <tr>\n",
       "      <th>2</th>\n",
       "      <td>NaN</td>\n",
       "      <td>NaN</td>\n",
       "      <td>NaN</td>\n",
       "      <td>NaN</td>\n",
       "      <td>NaN</td>\n",
       "      <td>NaN</td>\n",
       "      <td>NaN</td>\n",
       "      <td>NaN</td>\n",
       "      <td>NaN</td>\n",
       "      <td>NaN</td>\n",
       "      <td>...</td>\n",
       "      <td>NaN</td>\n",
       "      <td>NaN</td>\n",
       "      <td>NaN</td>\n",
       "      <td>NaN</td>\n",
       "      <td>NaN</td>\n",
       "      <td>NaN</td>\n",
       "      <td>NaN</td>\n",
       "      <td>NaN</td>\n",
       "      <td>NaN</td>\n",
       "      <td>NaN</td>\n",
       "    </tr>\n",
       "    <tr>\n",
       "      <th>3</th>\n",
       "      <td>NaN</td>\n",
       "      <td>NaN</td>\n",
       "      <td>NaN</td>\n",
       "      <td>NaN</td>\n",
       "      <td>NaN</td>\n",
       "      <td>NaN</td>\n",
       "      <td>NaN</td>\n",
       "      <td>NaN</td>\n",
       "      <td>NaN</td>\n",
       "      <td>NaN</td>\n",
       "      <td>...</td>\n",
       "      <td>NaN</td>\n",
       "      <td>NaN</td>\n",
       "      <td>5.0</td>\n",
       "      <td>NaN</td>\n",
       "      <td>NaN</td>\n",
       "      <td>NaN</td>\n",
       "      <td>NaN</td>\n",
       "      <td>NaN</td>\n",
       "      <td>NaN</td>\n",
       "      <td>NaN</td>\n",
       "    </tr>\n",
       "    <tr>\n",
       "      <th>4</th>\n",
       "      <td>3.0</td>\n",
       "      <td>NaN</td>\n",
       "      <td>NaN</td>\n",
       "      <td>NaN</td>\n",
       "      <td>NaN</td>\n",
       "      <td>NaN</td>\n",
       "      <td>NaN</td>\n",
       "      <td>NaN</td>\n",
       "      <td>NaN</td>\n",
       "      <td>NaN</td>\n",
       "      <td>...</td>\n",
       "      <td>NaN</td>\n",
       "      <td>NaN</td>\n",
       "      <td>NaN</td>\n",
       "      <td>NaN</td>\n",
       "      <td>NaN</td>\n",
       "      <td>NaN</td>\n",
       "      <td>NaN</td>\n",
       "      <td>NaN</td>\n",
       "      <td>NaN</td>\n",
       "      <td>NaN</td>\n",
       "    </tr>\n",
       "    <tr>\n",
       "      <th>5</th>\n",
       "      <td>NaN</td>\n",
       "      <td>NaN</td>\n",
       "      <td>NaN</td>\n",
       "      <td>5.0</td>\n",
       "      <td>NaN</td>\n",
       "      <td>NaN</td>\n",
       "      <td>NaN</td>\n",
       "      <td>NaN</td>\n",
       "      <td>NaN</td>\n",
       "      <td>NaN</td>\n",
       "      <td>...</td>\n",
       "      <td>NaN</td>\n",
       "      <td>2.0</td>\n",
       "      <td>NaN</td>\n",
       "      <td>NaN</td>\n",
       "      <td>NaN</td>\n",
       "      <td>NaN</td>\n",
       "      <td>NaN</td>\n",
       "      <td>NaN</td>\n",
       "      <td>NaN</td>\n",
       "      <td>NaN</td>\n",
       "    </tr>\n",
       "  </tbody>\n",
       "</table>\n",
       "<p>5 rows × 146 columns</p>\n",
       "</div>"
      ],
      "text/plain": [
       "title   Ace Ventura: When Nature Calls (1995)  Across the Sea of Time (1995)  \\\n",
       "userId                                                                         \n",
       "1                                         NaN                            NaN   \n",
       "2                                         NaN                            NaN   \n",
       "3                                         NaN                            NaN   \n",
       "4                                         3.0                            NaN   \n",
       "5                                         NaN                            NaN   \n",
       "\n",
       "title   Amazing Panda Adventure, The (1995)  American President, The (1995)  \\\n",
       "userId                                                                        \n",
       "1                                       NaN                             NaN   \n",
       "2                                       NaN                             NaN   \n",
       "3                                       NaN                             NaN   \n",
       "4                                       NaN                             NaN   \n",
       "5                                       NaN                             5.0   \n",
       "\n",
       "title   Angela (1995)  Angels and Insects (1995)  \\\n",
       "userId                                             \n",
       "1                 NaN                        NaN   \n",
       "2                 NaN                        NaN   \n",
       "3                 NaN                        NaN   \n",
       "4                 NaN                        NaN   \n",
       "5                 NaN                        NaN   \n",
       "\n",
       "title   Anne Frank Remembered (1995)  Antonia's Line (Antonia) (1995)  \\\n",
       "userId                                                                  \n",
       "1                                NaN                              NaN   \n",
       "2                                NaN                              NaN   \n",
       "3                                NaN                              NaN   \n",
       "4                                NaN                              NaN   \n",
       "5                                NaN                              NaN   \n",
       "\n",
       "title   Assassins (1995)  Babe (1995)  ...  Unforgettable (1996)  \\\n",
       "userId                                 ...                         \n",
       "1                    NaN          NaN  ...                   NaN   \n",
       "2                    NaN          NaN  ...                   NaN   \n",
       "3                    NaN          NaN  ...                   NaN   \n",
       "4                    NaN          NaN  ...                   NaN   \n",
       "5                    NaN          NaN  ...                   NaN   \n",
       "\n",
       "title   Up Close and Personal (1996)  Usual Suspects, The (1995)  \\\n",
       "userId                                                             \n",
       "1                                NaN                         3.5   \n",
       "2                                NaN                         NaN   \n",
       "3                                NaN                         5.0   \n",
       "4                                NaN                         NaN   \n",
       "5                                2.0                         NaN   \n",
       "\n",
       "title   Vampire in Brooklyn (1995)  Waiting to Exhale (1995)  \\\n",
       "userId                                                         \n",
       "1                              NaN                       NaN   \n",
       "2                              NaN                       NaN   \n",
       "3                              NaN                       NaN   \n",
       "4                              NaN                       NaN   \n",
       "5                              NaN                       NaN   \n",
       "\n",
       "title   When Night Is Falling (1995)  \\\n",
       "userId                                 \n",
       "1                                NaN   \n",
       "2                                NaN   \n",
       "3                                NaN   \n",
       "4                                NaN   \n",
       "5                                NaN   \n",
       "\n",
       "title   White Balloon, The (Badkonake sefid) (1995)  White Squall (1996)  \\\n",
       "userId                                                                     \n",
       "1                                               NaN                  NaN   \n",
       "2                                               NaN                  NaN   \n",
       "3                                               NaN                  NaN   \n",
       "4                                               NaN                  NaN   \n",
       "5                                               NaN                  NaN   \n",
       "\n",
       "title   Wings of Courage (1995)  Young Poisoner's Handbook, The (1995)  \n",
       "userId                                                                  \n",
       "1                           NaN                                    NaN  \n",
       "2                           NaN                                    NaN  \n",
       "3                           NaN                                    NaN  \n",
       "4                           NaN                                    NaN  \n",
       "5                           NaN                                    NaN  \n",
       "\n",
       "[5 rows x 146 columns]"
      ]
     },
     "execution_count": 26,
     "metadata": {},
     "output_type": "execute_result"
    }
   ],
   "source": [
    "pivot_table = movie.pivot_table(index = [\"userId\"],columns = [\"title\"],values = \"rating\")\n",
    "pivot_table.head(5)"
   ]
  },
  {
   "cell_type": "code",
   "execution_count": 27,
   "id": "ede33dd1",
   "metadata": {},
   "outputs": [
    {
     "data": {
      "text/plain": [
       "(123161, 146)"
      ]
     },
     "execution_count": 27,
     "metadata": {},
     "output_type": "execute_result"
    }
   ],
   "source": [
    "pivot_table.shape"
   ]
  },
  {
   "cell_type": "markdown",
   "id": "1caa5fe9",
   "metadata": {},
   "source": [
    "Now I will make a function from  which will recommend the movie with their correlation score.Note that higher the correlation more the movie related to each other"
   ]
  },
  {
   "cell_type": "code",
   "execution_count": 28,
   "id": "9cc7f0ab",
   "metadata": {},
   "outputs": [],
   "source": [
    "def recommend_movie(movie):\n",
    "    movie_watched = pivot_table[movie]\n",
    "    similarity_with_other_movies = pivot_table.corrwith(movie_watched)  # find correlation between \"Toy Story (1995)\" and other movies\n",
    "    similarity_with_other_movies = similarity_with_other_movies.sort_values(ascending=False)\n",
    "    return similarity_with_other_movies.head()"
   ]
  },
  {
   "cell_type": "code",
   "execution_count": 29,
   "id": "d600e01b",
   "metadata": {},
   "outputs": [
    {
     "data": {
      "text/plain": [
       "title\n",
       "American President, The (1995)    1.000000\n",
       "Angela (1995)                     0.556186\n",
       "Sonic Outlaws (1995)              0.554700\n",
       "Guardian Angel (1994)             0.527257\n",
       "Nueba Yol (1995)                  0.483607\n",
       "dtype: float64"
      ]
     },
     "execution_count": 29,
     "metadata": {},
     "output_type": "execute_result"
    }
   ],
   "source": [
    "recommend_movie('American President, The (1995)')"
   ]
  },
  {
   "cell_type": "code",
   "execution_count": 30,
   "id": "fcd25c39",
   "metadata": {},
   "outputs": [
    {
     "data": {
      "text/plain": [
       "title\n",
       "Toy Story (1995)                                                  1.000000\n",
       "Gospa (1995)                                                      0.516264\n",
       "Shadows (Cienie) (1988)                                           0.508859\n",
       "Happiness Is in the Field (Bonheur est dans le pré, Le) (1995)    0.495360\n",
       "Across the Sea of Time (1995)                                     0.461406\n",
       "dtype: float64"
      ]
     },
     "execution_count": 30,
     "metadata": {},
     "output_type": "execute_result"
    }
   ],
   "source": [
    "recommend_movie('Toy Story (1995)')"
   ]
  },
  {
   "cell_type": "code",
   "execution_count": 31,
   "id": "1744349f",
   "metadata": {},
   "outputs": [
    {
     "data": {
      "text/plain": [
       "title\n",
       "Taxi Driver (1976)       1.000000\n",
       "Jupiter's Wife (1994)    0.611262\n",
       "Sonic Outlaws (1995)     0.402730\n",
       "Target (1995)            0.401574\n",
       "Catwalk (1996)           0.394233\n",
       "dtype: float64"
      ]
     },
     "execution_count": 31,
     "metadata": {},
     "output_type": "execute_result"
    }
   ],
   "source": [
    "recommend_movie('Taxi Driver (1976)')"
   ]
  },
  {
   "cell_type": "code",
   "execution_count": 32,
   "id": "f867c534",
   "metadata": {},
   "outputs": [
    {
     "data": {
      "text/plain": [
       "title\n",
       "Headless Body in Topless Bar (1995)    1.0\n",
       "Angela (1995)                          1.0\n",
       "Guardian Angel (1994)                  1.0\n",
       "Sonic Outlaws (1995)                   1.0\n",
       "Amazing Panda Adventure, The (1995)    1.0\n",
       "dtype: float64"
      ]
     },
     "execution_count": 32,
     "metadata": {},
     "output_type": "execute_result"
    }
   ],
   "source": [
    "recommend_movie('Amazing Panda Adventure, The (1995)')"
   ]
  },
  {
   "cell_type": "code",
   "execution_count": 33,
   "id": "9835b152",
   "metadata": {},
   "outputs": [
    {
     "data": {
      "text/plain": [
       "title\n",
       "Vampire in Brooklyn (1995)                                        1.000000\n",
       "Headless Body in Topless Bar (1995)                               0.889297\n",
       "Gospa (1995)                                                      0.866025\n",
       "Happiness Is in the Field (Bonheur est dans le pré, Le) (1995)    0.745499\n",
       "Race the Sun (1996)                                               0.697001\n",
       "dtype: float64"
      ]
     },
     "execution_count": 33,
     "metadata": {},
     "output_type": "execute_result"
    }
   ],
   "source": [
    "recommend_movie('Vampire in Brooklyn (1995)')"
   ]
  },
  {
   "cell_type": "markdown",
   "id": "283feea2",
   "metadata": {},
   "source": [
    "It can be concluded that we need to recommend \"Angela (1995)\" movie to people who watched \"American President, The (1995)\".\n",
    "\n",
    "It can be concluded that we need to recommend \"Gospa (1995)\" movie to people who watched \"Toy Story (1995)\".\n",
    "\n",
    "It can be concluded that we need to recommend \"Jupiter's Wife (1994)\" movie to people who watched \"Taxi Driver (1976)\" ETC.."
   ]
  },
  {
   "cell_type": "markdown",
   "id": "0fe119fa",
   "metadata": {},
   "source": [
    "# "
   ]
  }
 ],
 "metadata": {
  "kernelspec": {
   "display_name": "Python 3 (ipykernel)",
   "language": "python",
   "name": "python3"
  },
  "language_info": {
   "codemirror_mode": {
    "name": "ipython",
    "version": 3
   },
   "file_extension": ".py",
   "mimetype": "text/x-python",
   "name": "python",
   "nbconvert_exporter": "python",
   "pygments_lexer": "ipython3",
   "version": "3.9.7"
  }
 },
 "nbformat": 4,
 "nbformat_minor": 5
}
